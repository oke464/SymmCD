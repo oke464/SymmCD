{
 "cells": [
  {
   "cell_type": "code",
   "execution_count": 2,
   "metadata": {},
   "outputs": [],
   "source": [
    "import torch, json\n",
    "from pyxtal.symmetry import Group\n",
    "from data_utils import get_site_symmetry_binary_repr\n",
    "\n",
    "cluster_sites = json.load(open('/home/mila/s/siba-smarak.panigrahi/DiffCSP/cluster_sites.json', 'r'))"
   ]
  },
  {
   "cell_type": "code",
   "execution_count": 3,
   "metadata": {},
   "outputs": [],
   "source": [
    "# map operations to spacegroups\n",
    "spacegroup_ops_mapper = {}\n",
    "for spacegroup in range(1, 231):\n",
    "    group = Group(spacegroup)\n",
    "    spacegroup_ops_mapper[spacegroup] = {}\n",
    "    for i in range(len(group.Wyckoff_positions)):\n",
    "        group.Wyckoff_positions[i].get_site_symmetry()\n",
    "        spacegroup_ops_mapper[spacegroup][\n",
    "            tuple(get_site_symmetry_binary_repr(\n",
    "                cluster_sites[group.Wyckoff_positions[i].site_symm], label=str(spacegroup)\n",
    "                ).tolist()\n",
    "                  )\n",
    "            ] = torch.stack([torch.from_numpy(x.affine_matrix) for x in group.Wyckoff_positions[i].ops]).float()\n",
    "\n",
    "\n",
    "# save the mapper using torch\n",
    "torch.save(spacegroup_ops_mapper, 'spacegroup_ops_mapper.pt')"
   ]
  },
  {
   "cell_type": "code",
   "execution_count": 2,
   "metadata": {},
   "outputs": [],
   "source": [
    "# collect all wyckoff positions available\n",
    "wyckoff_labels = []\n",
    "for spacegroup in range(1, 231):\n",
    "    group = Group(spacegroup)\n",
    "    for wp in group.Wyckoff_positions:\n",
    "        wp_label = wp.get_label()\n",
    "        if wp_label not in wyckoff_labels: wyckoff_labels.append(wp_label)\n",
    "        \n",
    "# sort all the wyckoff labels\n",
    "wyckoff_labels = sorted(wyckoff_labels)\n",
    "\n",
    "# save all the wyckoff labels\n",
    "torch.save(wyckoff_labels, 'wyckoff_labels.pt')"
   ]
  },
  {
   "cell_type": "code",
   "execution_count": 3,
   "metadata": {},
   "outputs": [],
   "source": [
    "# create masks for spacegroups depending on the which wyckoff positions are present\n",
    "spacegroup_wyckoff_masks = {}\n",
    "for spacegroup in range(1, 231):\n",
    "    group = Group(spacegroup)\n",
    "    spacegroup_wyckoff_masks[spacegroup] = torch.zeros(len(wyckoff_labels))\n",
    "    for wp in group.Wyckoff_positions:\n",
    "        wp_label = wp.get_label()\n",
    "        spacegroup_wyckoff_masks[spacegroup][wyckoff_labels.index(wp_label)] = 1\n",
    "        \n",
    "# save the masks using torch\n",
    "torch.save(spacegroup_wyckoff_masks, 'spacegroup_wyckoff_masks.pt')"
   ]
  }
 ],
 "metadata": {
  "kernelspec": {
   "display_name": "Python 3",
   "language": "python",
   "name": "python3"
  },
  "language_info": {
   "codemirror_mode": {
    "name": "ipython",
    "version": 3
   },
   "file_extension": ".py",
   "mimetype": "text/x-python",
   "name": "python",
   "nbconvert_exporter": "python",
   "pygments_lexer": "ipython3",
   "version": "3.8.13"
  }
 },
 "nbformat": 4,
 "nbformat_minor": 2
}
