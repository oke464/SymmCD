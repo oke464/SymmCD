{
 "cells": [
  {
   "cell_type": "code",
   "execution_count": 1,
   "metadata": {},
   "outputs": [
    {
     "data": {
      "application/vnd.jupyter.widget-view+json": {
       "model_id": "23f639cfbf5140249e3da031e7074508",
       "version_major": 2,
       "version_minor": 0
      },
      "text/plain": []
     },
     "metadata": {},
     "output_type": "display_data"
    }
   ],
   "source": [
    "import nglview\n",
    "from pymatgen.core import Structure, Lattice\n",
    "import numpy as np"
   ]
  },
  {
   "cell_type": "code",
   "execution_count": 2,
   "metadata": {},
   "outputs": [],
   "source": [
    "def plot3d(structure, spacefill=True, show_axes=True):\n",
    "    from itertools import product\n",
    "    from pymatgen.core import Structure\n",
    "    from pymatgen.core.sites import PeriodicSite\n",
    "    \n",
    "    eps = 1e-8\n",
    "    sites = []\n",
    "    for site in structure:\n",
    "        species = site.species\n",
    "        frac_coords = np.remainder(site.frac_coords, 1)\n",
    "        for jimage in product([0, 1 - eps], repeat=3):\n",
    "            new_frac_coords = frac_coords + np.array(jimage)\n",
    "            if np.all(new_frac_coords < 1 + eps):\n",
    "                new_site = PeriodicSite(species=species, coords=new_frac_coords, lattice=structure.lattice)\n",
    "                sites.append(new_site)\n",
    "    structure_display = Structure.from_sites(sites)\n",
    "    \n",
    "    view = nglview.show_pymatgen(structure_display)\n",
    "    view.add_unitcell()\n",
    "    \n",
    "    if spacefill:\n",
    "        view.add_spacefill(radius_type='vdw', radius=0.5, color_scheme='element')\n",
    "        view.remove_ball_and_stick()\n",
    "    else:\n",
    "        view.add_ball_and_stick()\n",
    "        \n",
    "    if show_axes:\n",
    "        view.shape.add_arrow([-4, -4, -4], [0, -4, -4], [1, 0, 0], 0.5, \"x-axis\")\n",
    "        view.shape.add_arrow([-4, -4, -4], [-4, 0, -4], [0, 1, 0], 0.5, \"y-axis\")\n",
    "        view.shape.add_arrow([-4, -4, -4], [-4, -4, 0], [0, 0, 1], 0.5, \"z-axis\")\n",
    "        \n",
    "    view.camera = \"perspective\"\n",
    "    return view\n"
   ]
  },
  {
   "cell_type": "code",
   "execution_count": null,
   "metadata": {},
   "outputs": [],
   "source": [
    "a = 4.653\n",
    "c = 2.969\n",
    "x_4f = 0.3046\n",
    "\n",
    "lattice = Lattice.from_parameters(a, a, c, 90, 90, 90)\n",
    "species = [\"Ti\", \"Ti\", \"O\", \"O\", \"O\", \"O\"]\n",
    "frac_coords = np.array([\n",
    "    [0, 0, 0],                      # Ti(2a)\n",
    "    [0.5, 0.5, 0.5],                # Ti(2a)\n",
    "    [x_4f, x_4f, 0],                # O(4f)\n",
    "    [1 - x_4f, 1 - x_4f, 0],        # O(4f)\n",
    "    [0.5 - x_4f, 0.5 + x_4f, 0.5],  # O(4f)\n",
    "    [0.5 + x_4f, 0.5 - x_4f, 0.5],  # O(4f)\n",
    "])\n",
    "structure = Structure(lattice, species, frac_coords)\n",
    "\n",
    "structure"
   ]
  },
  {
   "cell_type": "code",
   "execution_count": null,
   "metadata": {},
   "outputs": [],
   "source": [
    "plot3d(structure, spacefill=True)"
   ]
  },
  {
   "cell_type": "code",
   "execution_count": null,
   "metadata": {},
   "outputs": [],
   "source": [
    "import torch as th\n",
    "eval_gen = th.load('<path_to_gen_samples>.pt')\n",
    "\n",
    "print(eval_gen.keys())\n",
    "num_atoms = eval_gen[\"num_atoms\"][0].numpy()\n",
    "frac_coords = eval_gen['frac_coords'][0:5].numpy()\n",
    "lengths = eval_gen[\"lengths\"][0].numpy()\n",
    "angles = eval_gen[\"angles\"][0].numpy()\n",
    "species = eval_gen[\"atom_types\"][0:5].argmax(dim=1).numpy() + 1\n",
    "\n",
    "from pymatgen.core.periodic_table import Element\n",
    "\n",
    "lattice = Lattice.from_parameters(lengths[0], lengths[1], lengths[2], angles[0], angles[1], angles[2])\n",
    "species = [Element.from_Z(x).symbol for x in species]\n",
    "structure = Structure(lattice, species, frac_coords)\n",
    "structure"
   ]
  },
  {
   "cell_type": "code",
   "execution_count": null,
   "metadata": {},
   "outputs": [],
   "source": [
    "from scripts.eval_utils import structure_validity\n",
    "structure_validity(structure)"
   ]
  },
  {
   "cell_type": "code",
   "execution_count": null,
   "metadata": {},
   "outputs": [],
   "source": [
    "plot3d(structure, spacefill=True)"
   ]
  }
 ],
 "metadata": {
  "kernelspec": {
   "display_name": "Python 3.8.13 64-bit ('diffcsp')",
   "language": "python",
   "name": "python3"
  },
  "language_info": {
   "codemirror_mode": {
    "name": "ipython",
    "version": 3
   },
   "file_extension": ".py",
   "mimetype": "text/x-python",
   "name": "python",
   "nbconvert_exporter": "python",
   "pygments_lexer": "ipython3",
   "version": "3.8.13"
  },
  "orig_nbformat": 4,
  "vscode": {
   "interpreter": {
    "hash": "4f5996efa578a8ac70167b105ea8fc4bfc7b47b82505e0bcc934bf3b58bb00e4"
   }
  }
 },
 "nbformat": 4,
 "nbformat_minor": 2
}
